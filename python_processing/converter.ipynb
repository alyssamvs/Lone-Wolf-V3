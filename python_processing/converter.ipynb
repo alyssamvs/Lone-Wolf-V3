{
 "cells": [
  {
   "cell_type": "code",
   "execution_count": 1,
   "metadata": {},
   "outputs": [],
   "source": [
    "import pandas as pd"
   ]
  },
  {
   "cell_type": "code",
   "execution_count": 4,
   "metadata": {},
   "outputs": [
    {
     "name": "stdout",
     "output_type": "stream",
     "text": [
      "Converted Older_CSVs/accelerationism.csv → Data/accelerationism-events.json\n"
     ]
    }
   ],
   "source": [
    "input_file = 'Older_CSVs/accelerationism.csv'\n",
    "output_file = 'Data/accelerationism-events.json'\n",
    "\n",
    "df = pd.read_csv(input_file)\n",
    "df.to_json(output_file, orient='records', force_ascii=False, indent=4)\n",
    "\n",
    "print(f\"Converted {input_file} → {output_file}\")"
   ]
  }
 ],
 "metadata": {
  "kernelspec": {
   "display_name": "thesis_envi",
   "language": "python",
   "name": "python3"
  },
  "language_info": {
   "codemirror_mode": {
    "name": "ipython",
    "version": 3
   },
   "file_extension": ".py",
   "mimetype": "text/x-python",
   "name": "python",
   "nbconvert_exporter": "python",
   "pygments_lexer": "ipython3",
   "version": "3.10.16"
  }
 },
 "nbformat": 4,
 "nbformat_minor": 2
}
