{
 "cells": [
  {
   "cell_type": "code",
   "execution_count": 6,
   "metadata": {},
   "outputs": [
    {
     "name": "stdout",
     "output_type": "stream",
     "text": [
      "David Brian Stone Jr. <--> David Brian Stone Sr. (Similarity: 95)\n",
      "Brandon Clint Russell (1) <--> Brandon Clint Russell (2) (Similarity: 96)\n",
      "Jeffrey Raphiel Clark, Jr. <--> Jeffrey Raphiel Clark Jr. (Similarity: 100)\n",
      "William Garfield Bilbrough IV (1) <--> William Garfield Bilbrough IV (2) (Similarity: 97)\n",
      "Patrik Jordan Mathews (2) <--> Patrik Jordan Mathews (1) (Similarity: 96)\n",
      "Patrik Jordan Mathews (2) <--> Patrik Jordan Mathews (3) (Similarity: 96)\n",
      "Brian Mark Lemley Jr. (2) <--> Brian Mark Lemley Jr. (1) (Similarity: 95)\n",
      "Brian Mark Lemley Jr. (2) <--> Brian Mark Lemley Jr. (3) (Similarity: 95)\n",
      "Steven Carrillo (2) <--> Steven Carrillo (1) (Similarity: 94)\n",
      "Steven Carrillo (2) <--> Steven Carillo (Similarity: 90)\n",
      "Robert Alvin Justus, Jr. <--> Robert Alvin Justus Jr. (Similarity: 100)\n",
      "Justen Michael Watkins (1) <--> Justen Michael Watkins (2) (Similarity: 96)\n",
      "Michael Allen Jones <--> Michael Alan Jones (Similarity: 92)\n",
      "Hatchet M. Speed <--> Hatchet M . Speed (2) (Similarity: 94)\n"
     ]
    }
   ],
   "source": [
    "import json\n",
    "import pandas as pd\n",
    "from thefuzz import fuzz, process\n",
    "\n",
    "# Load data\n",
    "with open(\"Data/all-combined-dataset.json\", \"r\", encoding=\"utf-8\") as f:\n",
    "    data = json.load(f)\n",
    "\n",
    "# Convert to DataFrame\n",
    "df = pd.DataFrame(data)\n",
    "\n",
    "# Get list of unique perpetrator names\n",
    "names = df[\"perpetrator\"].dropna().unique()\n",
    "\n",
    "# Compare each name to others using fuzzy matching\n",
    "matches = []\n",
    "seen = set()\n",
    "\n",
    "for i, name in enumerate(names):\n",
    "    if name in seen:\n",
    "        continue\n",
    "    for j in range(i + 1, len(names)):\n",
    "        other = names[j]\n",
    "        score = fuzz.token_sort_ratio(name, other)\n",
    "        if score > 85:  # Threshold (tweak as needed)\n",
    "            matches.append((name, other, score))\n",
    "            seen.add(other)\n",
    "\n",
    "# Display results\n",
    "for a, b, score in matches:\n",
    "    print(f\"{a} <--> {b} (Similarity: {score})\")\n"
   ]
  },
  {
   "cell_type": "code",
   "execution_count": 4,
   "metadata": {},
   "outputs": [],
   "source": [
    "from thefuzz import fuzz, process"
   ]
  },
  {
   "cell_type": "code",
   "execution_count": 7,
   "metadata": {},
   "outputs": [
    {
     "name": "stdout",
     "output_type": "stream",
     "text": [
      "Dates have been normalized to YYYY-MM-DD format and saved to 'dates-normalized.json'\n"
     ]
    }
   ],
   "source": [
    "import json\n",
    "import pandas as pd\n",
    "from datetime import datetime\n",
    "\n",
    "# Load data\n",
    "with open(\"Data/all-combined-dataset.json\", \"r\", encoding=\"utf-8\") as f:\n",
    "    data = json.load(f)\n",
    "\n",
    "# Convert to DataFrame\n",
    "df = pd.DataFrame(data)\n",
    "\n",
    "def normalize_date(row):\n",
    "    raw_date = row[\"date\"]\n",
    "    source = row[\"source\"]\n",
    "    \n",
    "    try:\n",
    "        if source in (\"lone_actor\", \"manual_entry\"):\n",
    "            # Interpret as DD/MM/YYYY\n",
    "            parsed = datetime.strptime(raw_date, \"%d/%m/%Y\")\n",
    "        elif source == \"accelerationism\":\n",
    "            # Interpret as MM/DD/YYYY\n",
    "            parsed = datetime.strptime(raw_date, \"%m/%d/%Y\")\n",
    "        else:\n",
    "            return raw_date  # Leave untouched if source unknown\n",
    "        \n",
    "        return parsed.strftime(\"%Y-%m-%d\")  # Convert to ISO format\n",
    "    except Exception:\n",
    "        return raw_date  # Keep original if parsing fails\n",
    "\n",
    "# Apply normalization\n",
    "df[\"date\"] = df.apply(normalize_date, axis=1)\n",
    "\n",
    "# Save cleaned version\n",
    "df.to_json(\"dates-normalized.json\", orient=\"records\", indent=2)\n",
    "\n",
    "print(\"Dates have been normalized to YYYY-MM-DD format and saved to 'dates-normalized.json'\")\n"
   ]
  }
 ],
 "metadata": {
  "kernelspec": {
   "display_name": "thesis_envi",
   "language": "python",
   "name": "python3"
  },
  "language_info": {
   "codemirror_mode": {
    "name": "ipython",
    "version": 3
   },
   "file_extension": ".py",
   "mimetype": "text/x-python",
   "name": "python",
   "nbconvert_exporter": "python",
   "pygments_lexer": "ipython3",
   "version": "3.10.16"
  }
 },
 "nbformat": 4,
 "nbformat_minor": 2
}
